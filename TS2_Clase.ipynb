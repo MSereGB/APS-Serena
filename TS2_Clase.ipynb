{
 "cells": [
  {
   "cell_type": "markdown",
   "id": "6b3d00bd",
   "metadata": {},
   "source": [
    "# TS2\n",
    "\n",
    "Que es un sistema? Puede ser un algoritmo que me modifica una cuenta y me da una señal.\n",
    "Lo puedo pensar como algo que entra en una caja negra, alli se transforma y al salir me sale algo diferente.\n",
    "Ecuaciones diferenciales -> Ecuaciones en Diferencias        \n",
    "\n",
    "\n",
    "## Sistemas LTI\n",
    "Lo puedo pensar como algo que entra en una caja negra, alli se transforma y al salir me sale algo diferente.\n",
    "Ecuaciones diferenciales -> Ecuaciones en Diferencias\n",
    "\n",
    "1) Dada la siguiente ecuación en diferencias que modela un sistema LTI:\n",
    "\n",
    "y[n]=3⋅10−2⋅x[n]+5⋅10−2⋅x[n−1]+3⋅10−2⋅x[n−2]+1.5⋅y[n−1]−0.5⋅y[n−2]\n",
    "\n",
    "Graficar la señal de salida para cada una de las señales de entrada que generó en el TS1. Considere que las mismas son causales.\n",
    "Hallar la respuesta al impulso y usando la misma, repetir la generación de la señal de salida para alguna de las señales de entrada consideradas en el punto anterior.\n",
    "En cada caso indique la frecuencia de muestreo, el tiempo de simulación y la potencia o energía de la señal de salida.\n",
    "\n",
    "Dada una señal (mi vecgor de entrada) x[n]=np.sin() como puedo obtener y[n]\n",
    "\n",
    "y[n] = 3.10^-2 . x[n] + 5.10^-2 . x[n-1] + 3.10^-3 . x[n-2] + 1,5.y[n-1] - 0,5.y[n-2]\n",
    "\n",
    "n es el numero de muestras que tome en la TS1\n",
    "\n",
    "Hago: \n",
    "y[0] = ......\n",
    "y[1] = b1.x[1] + b2.x[0] +b3.x[-1] +a1.y[0] + a2.y[-1]\n",
    "\n",
    "\n",
    "- Lo que nos combien es separar los resultados de cada termino\n",
    "- Hacemos dos bucles. uno de suma y uno de multiplicacion (?\n",
    "\n",
    "2)  Hallar la respuesta al impulso y la salida correspondiente a una señal de entrada senoidal en los sistemas definidos mediante las siguientes ecuaciones en diferencias:\n",
    "\n",
    "y[n]=x[n]+3⋅x[n−10] --> No hay recursividad\n",
    "y[n]=x[n]+3⋅y[n−10] --> Hay recursividad\n",
    "\n",
    "Con esto comparamos ambas respuestas al impulso\n",
    "\n",
    "### BONUS\n",
    "\n",
    "5) Discretizar la siguiente ecuación diferencial correspondiente al modelo de Windkessel que describe la dinámica presión-flujo del sistema sanguíneo:\n",
    "\n",
    "C⋅dPdt+1R⋅P=Q  ----> Tenemos que discretizarla \n",
    "\n",
    "Tenemos que aproximarla por diferencias\n",
    "\n",
    "Considere valores típicos de Compliance y Resistencia vascular\n",
    "\n",
    "\n",
    "\n",
    "\n"
   ]
  }
 ],
 "metadata": {
  "kernelspec": {
   "display_name": "Serena",
   "language": "python",
   "name": "python3"
  },
  "language_info": {
   "name": "python",
   "version": "3.12.6"
  }
 },
 "nbformat": 4,
 "nbformat_minor": 5
}
