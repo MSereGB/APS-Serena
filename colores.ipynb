{
 "cells": [
  {
   "cell_type": "markdown",
   "id": "9a2b8658",
   "metadata": {},
   "source": [
    "# <span style=\"color:#FF2A6D; text-shadow:0 0 8px #FF2A6D,0 0 18px #C300FF;\">Hola neón</span>\n"
   ]
  },
  {
   "cell_type": "markdown",
   "id": "47828532",
   "metadata": {},
   "source": [
    "<div style=\"border:1px solid #C300FF; border-radius:12px; padding:14px; \n",
    "            background:#150016; color:#EAD9FF; \n",
    "            box-shadow:0 0 12px #C300FF88, inset 0 0 12px #6A00FF33;\">\n",
    "  <b style=\"color:#FF79C6;\">TIP:</b> Podés usar <i>HTML inline</i> en Markdown para efectos neón.\n",
    "</div>\n"
   ]
  },
  {
   "cell_type": "markdown",
   "id": "fec14068",
   "metadata": {},
   "source": [
    "<span style=\"background:#FF2A6D; color:#0A0010; padding:4px 12px; border-radius:999px;\n",
    "             box-shadow:0 0 10px #FF2A6D99, 0 0 18px #C300FF66; font-weight:600;\">\n",
    "  DATASET ✅\n",
    "</span>"
   ]
  },
  {
   "cell_type": "markdown",
   "id": "f5d703b5",
   "metadata": {},
   "source": [
    "<span style=\"border:2px solid #C300FF; color:#EAD9FF; padding:3px 10px; border-radius:999px;\n",
    "             box-shadow:0 0 10px #C300FF88; font-weight:600;\">\n",
    "  RESULTADOS\n",
    "</span>"
   ]
  },
  {
   "cell_type": "markdown",
   "id": "dc5936b7",
   "metadata": {},
   "source": [
    "<div style=\"height:3px; background:#C300FF; \n",
    "            box-shadow:0 0 8px #C300FF, 0 0 18px #FF2A6D; border-radius:3px;\"></div>"
   ]
  },
  {
   "cell_type": "markdown",
   "id": "53c51ce3",
   "metadata": {},
   "source": [
    "<div style=\"height:4px; \n",
    "  background:linear-gradient(90deg, #FF2A6D, #C300FF, #FF79C6);\n",
    "  box-shadow:0 0 10px #FF2A6D88, 0 0 18px #C300FF88; border-radius:4px;\"></div>"
   ]
  },
  {
   "cell_type": "markdown",
   "id": "095d62fb",
   "metadata": {},
   "source": [
    "<div style=\"border:1px solid #C300FF; border-radius:12px; padding:14px;\n",
    "            background:#16001A; color:#EAD9FF;\n",
    "            box-shadow:0 0 12px #C300FF88, inset 0 0 10px #6A00FF33;\">\n",
    "  <b style=\"color:#BD93F9;\">INFO:</b> Este bloque sirve para aclaraciones y notas.\n",
    "</div>\n"
   ]
  },
  {
   "cell_type": "markdown",
   "id": "6e221fe2",
   "metadata": {},
   "source": [
    "<div style=\"border:1px solid #FF2A6D; border-radius:12px; padding:14px;\n",
    "            background:#1A0010; color:#FFE6F6;\n",
    "            box-shadow:0 0 12px #FF2A6D99, inset 0 0 10px #FF2A6D33;\">\n",
    "  <b style=\"color:#FF79C6;\">WARNING:</b> Revisa parámetros antes de ejecutar.\n",
    "</div>\n"
   ]
  },
  {
   "cell_type": "markdown",
   "id": "cbb1997c",
   "metadata": {},
   "source": [
    "<table style=\"border-collapse:separate; border-spacing:0; width:100%;\n",
    "              color:#F8E9FF; background:#0F0012; \n",
    "              border:1px solid #C300FF; border-radius:12px; overflow:hidden;\n",
    "              box-shadow:0 0 14px #C300FF66;\">\n",
    "  <thead style=\"background:#1A0030;\">\n",
    "    <tr>\n",
    "      <th style=\"padding:10px 12px; text-align:left; border-bottom:1px solid #C300FF;\">Métrica</th>\n",
    "      <th style=\"padding:10px 12px; text-align:left; border-bottom:1px solid #C300FF;\">Valor</th>\n",
    "    </tr>\n",
    "  </thead>\n",
    "  <tbody>\n",
    "    <tr style=\"background:#13001C;\">\n",
    "      <td style=\"padding:10px 12px;\">Accuracy</td>\n",
    "      <td style=\"padding:10px 12px;\">0.92</td>\n",
    "    </tr>\n",
    "    <tr style=\"background:#0F0018;\">\n",
    "      <td style=\"padding:10px 12px;\">Precision</td>\n",
    "      <td style=\"padding:10px 12px;\">0.88</td>\n",
    "    </tr>\n",
    "    <tr style=\"background:#13001C;\">\n",
    "      <td style=\"padding:10px 12px;\">Recall</td>\n",
    "      <td style=\"padding:10px 12px;\">0.90</td>\n",
    "    </tr>\n",
    "  </tbody>\n",
    "</table>\n"
   ]
  },
  {
   "cell_type": "markdown",
   "id": "445dace9",
   "metadata": {},
   "source": [
    "<ul style=\"list-style:none; padding-left:0;\">\n",
    "  <li>🔮 <span style=\"color:#BD93F9;\">Cargar dataset</span></li>\n",
    "  <li>⚡ <span style=\"color:#FF79C6;\">Entrenar modelo</span></li>\n",
    "  <li>🧪 <span style=\"color:#C300FF;\">Validar métricas</span></li>\n",
    "</ul>\n"
   ]
  },
  {
   "cell_type": "markdown",
   "id": "6027875f",
   "metadata": {},
   "source": [
    "<h1 style=\"color:#FF2A6D; text-shadow:0 0 8px #FF2A6D,0 0 18px #C300FF; margin-bottom:8px;\">\n",
    "  Proyecto — Notebook\n",
    "</h1>\n",
    "<div style=\"height:3px; background:linear-gradient(90deg,#FF2A6D,#C300FF,#FF79C6);\n",
    "            box-shadow:0 0 10px #FF2A6D88, 0 0 18px #C300FF88; border-radius:3px; margin:8px 0 14px;\"></div>\n",
    "\n",
    "<div style=\"border:1px solid #C300FF; border-radius:12px; padding:12px; background:#150016; color:#EAD9FF;\n",
    "            box-shadow:0 0 12px #C300FF88, inset 0 0 10px #6A00FF33; margin-bottom:12px;\">\n",
    "  <b style=\"color:#BD93F9;\">INFO:</b> Descripción breve del notebook.\n",
    "</div>\n",
    "\n",
    "<span style=\"background:#FF2A6D; color:#0A0010; padding:4px 12px; border-radius:999px;\n",
    "             box-shadow:0 0 10px #FF2A6D99, 0 0 18px #C300FF66; font-weight:600;\">\n",
    "  v1.0\n",
    "</span>\n"
   ]
  },
  {
   "cell_type": "markdown",
   "id": "7ca2de0c",
   "metadata": {},
   "source": [
    "<!-- ====== TÍTULO NEÓN ====== -->\n",
    "<h1 style=\"color:#FF2A6D; margin:0;\n",
    "           text-shadow:0 0 8px #FF2A6D, 0 0 18px #C300FF;\">\n",
    "  TS1 — Síntesis y análisis de señales\n",
    "</h1>\n",
    "\n",
    "<!-- Separador gradiente -->\n",
    "<div style=\"height:4px; margin:10px 0 14px;\n",
    "  background:linear-gradient(90deg,#FF2A6D,#C300FF,#FF79C6);\n",
    "  box-shadow:0 0 10px #FF2A6D88, 0 0 18px #C300FF88; border-radius:4px;\"></div>\n",
    "\n",
    "<!-- ====== METADATOS / PORTADA ====== -->\n",
    "<div style=\"border:1px solid #C300FF; border-radius:14px; padding:14px;\n",
    "            background:#150016; color:#EAD9FF;\n",
    "            box-shadow:0 0 12px #C300FF66, inset 0 0 10px #6A00FF33;\">\n",
    "\n",
    "  <div style=\"display:flex; gap:10px; flex-wrap:wrap; margin-bottom:8px;\">\n",
    "    <span style=\"background:#FF2A6D; color:#0A0010; padding:4px 12px; border-radius:999px;\n",
    "                 box-shadow:0 0 10px #FF2A6D99, 0 0 18px #C300FF66; font-weight:700;\">\n",
    "      Informe TS1\n",
    "    </span>\n",
    "    <span style=\"border:1px solid #C300FF; color:#EAD9FF; padding:3px 10px; border-radius:999px;\n",
    "                 box-shadow:0 0 10px #C300FF88; font-weight:600;\">\n",
    "      Neon Mode\n",
    "    </span>\n",
    "  </div>\n",
    "\n",
    "  <div style=\"line-height:1.6;\">\n",
    "    <b style=\"color:#FF79C6;\">Nombre:</b> Maria Serena Gil<br/>\n",
    "    <b style=\"color:#FF79C6;\">Materia:</b> Analisis y Procesamiento de Señales<br/>\n",
    "    <b style=\"color:#FF79C6;\">Docentes:</b> <span style=\"opacity:.85;\">&mdash;</span><br/>\n",
    "    <b style=\"color:#FF79C6;\">Carrera:</b> Ingenieria Electronica\n",
    "  </div>\n",
    "</div>\n",
    "\n",
    "<!-- Espacio -->\n",
    "<div style=\"height:10px;\"></div>\n",
    "\n",
    "<!-- ====== INTRODUCCIÓN ====== -->\n",
    "<h3 style=\"color:#BD93F9; margin:10px 0 6px;\n",
    "           text-shadow:0 0 6px #BD93F9, 0 0 12px #C300FF;\">\n",
    "  Introducción\n",
    "</h3>\n",
    "\n",
    "<div style=\"border:1px solid #C300FF; border-radius:12px; padding:14px;\n",
    "            background:#16001A; color:#F4E9FF;\n",
    "            box-shadow:0 0 12px #C300FF88, inset 0 0 10px #6A00FF33;\">\n",
    "\n",
    "  <p style=\"margin:0 0 10px;\">\n",
    "    En este trabajo voy a <b style=\"color:#FF79C6;\">sintetizar y analizar</b> distintas señales básicas,\n",
    "    manteniendo criterios de muestreo consistentes para poder compararlas.\n",
    "  </p>\n",
    "\n",
    "  <p style=\"margin:0 0 10px;\">\n",
    "    Para cada caso presentaré el\n",
    "    <span style=\"background:#FF2A6D; color:#0A0010; padding:2px 8px; border-radius:999px; font-weight:700;\n",
    "                 box-shadow:0 0 8px #FF2A6D88;\">Δt</span>,\n",
    "    el <span style=\"border:1px solid #C300FF; padding:2px 8px; border-radius:999px;\n",
    "                    box-shadow:0 0 8px #C300FF66;\">N</span> y la\n",
    "    <span style=\"background:#C300FF; color:#0A0010; padding:2px 8px; border-radius:999px; font-weight:700;\n",
    "                 box-shadow:0 0 8px #C300FF99;\">potencia promedio</span> en la ventana de observación.\n",
    "  </p>\n",
    "\n",
    "  <p style=\"margin:0 0 10px;\">\n",
    "    Luego verificaré la\n",
    "    <span style=\"color:#BD93F9; font-weight:700; text-shadow:0 0 6px #BD93F9;\">ortogonalidad</span>\n",
    "    respecto de la primera señal y graficaré la\n",
    "    <span style=\"color:#FF79C6; font-weight:700; text-shadow:0 0 6px #FF79C6;\">autocorrelación</span>\n",
    "    y las <span style=\"color:#FF79C6; font-weight:700; text-shadow:0 0 6px #FF79C6;\">correlaciones cruzadas</span>.\n",
    "  </p>\n",
    "\n",
    "  <p style=\"margin:0 0 10px;\">\n",
    "    También incluiré una <b style=\"color:#FF79C6;\">demostración</b> de una identidad trigonométrica y su\n",
    "    verificación con señales sinusoidales. Finalmente, si corresponde, agregaré los\n",
    "    <span style=\"border:1px dashed #FF2A6D; padding:2px 8px; border-radius:8px; color:#FFB6DC;\n",
    "                 box-shadow:0 0 8px #FF2A6D55;\">bonus</span>\n",
    "    (temperatura del procesador en tiempo real y análisis de un archivo WAV).\n",
    "  </p>\n",
    "\n",
    "  <p style=\"margin:0;\">\n",
    "    Mi objetivo es resolver cada ítem <b style=\"color:#FF79C6;\">paso a paso</b>, con gráficos claros y\n",
    "    justificación breve de las decisiones de muestreo y cálculo.\n",
    "  </p>\n",
    "</div>\n",
    "\n",
    "<!-- Separador fino -->\n",
    "<div style=\"height:3px; margin:12px 0 0;\n",
    "            background:#C300FF; box-shadow:0 0 8px #C300FF, 0 0 16px #FF2A6D; border-radius:3px;\"></div>\n"
   ]
  }
 ],
 "metadata": {
  "language_info": {
   "name": "python"
  }
 },
 "nbformat": 4,
 "nbformat_minor": 5
}
